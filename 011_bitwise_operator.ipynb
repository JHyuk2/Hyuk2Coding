{
 "cells": [
  {
   "cell_type": "markdown",
   "metadata": {},
   "source": [
    "# 비트연산\n",
    "\n",
    "비트 연산을 활용한 Exhaustive Enumeration (모든 경우의 수)\n",
    "\n",
    "## I. 비트연산자\n",
    "\n",
    "### (1) 기본연산자\n",
    "\n",
    "![bitwise_operator](https://image.slidesharecdn.com/15-bitwiseoperators-130815152621-phpapp02/95/15-bitwise-operators-3-638.jpg?cb=1376580623)"
   ]
  },
  {
   "cell_type": "code",
   "execution_count": 4,
   "metadata": {},
   "outputs": [
    {
     "data": {
      "text/plain": "0"
     },
     "execution_count": 4,
     "metadata": {},
     "output_type": "execute_result"
    }
   ],
   "source": [
    "24 & 32"
   ]
  },
  {
   "cell_type": "markdown",
   "metadata": {},
   "source": [
    "### (2) 그 외 연산자\n",
    "\n",
    "- `~` : not\n",
    "- `<<` : lshift\n",
    "- `>>` : rshift"
   ]
  },
  {
   "cell_type": "code",
   "execution_count": 10,
   "metadata": {},
   "outputs": [
    {
     "data": {
      "text/plain": "1"
     },
     "execution_count": 10,
     "metadata": {},
     "output_type": "execute_result"
    }
   ],
   "source": [
    "1 << 0"
   ]
  },
  {
   "cell_type": "markdown",
   "metadata": {},
   "source": [
    "## II. 비트연산 활용\n",
    "\n",
    "### (1) 정수로 (정수들의) 집합을 표현\n",
    "```python\n",
    "{1, 3, 5, 7} = 2**1 + 2**3 + 2**5 + 2**7\n",
    "{1, 3, 5, 7} = 2 + 8 + 32 + 128\n",
    "             = 170\n",
    "    \n",
    "[9, 8, 7, 6, 5, 4, 3, 2, 1, 0]\n",
    "[x, x, o, x, o, x, o, x, o, x]\n",
    "\n",
    "# 정수 요소[인덱스]의 포함 여부에 따른 2진수로 표현 가능\n",
    "```"
   ]
  },
  {
   "cell_type": "code",
   "execution_count": 9,
   "metadata": {},
   "outputs": [
    {
     "data": {
      "text/plain": "-3"
     },
     "execution_count": 9,
     "metadata": {},
     "output_type": "execute_result"
    }
   ],
   "source": [
    "~ 2"
   ]
  },
  {
   "cell_type": "markdown",
   "metadata": {},
   "source": [
    "### (2) 비트마스크를 활용한 "
   ]
  },
  {
   "cell_type": "code",
   "execution_count": 15,
   "metadata": {},
   "outputs": [
    {
     "name": "stdout",
     "output_type": "stream",
     "text": "\n3 (1, 0) \n3 (2, 0) \n3 (3, 0) 6 (3, 1) \n3 (4, 0) \n3 (5, 0) 7 (5, 2) \n3 (6, 0) 6 (6, 1) \n3 (7, 0) 6 (7, 1) 7 (7, 2) \n3 (8, 0) \n3 (9, 0) 1 (9, 3) \n3 (10, 0) 7 (10, 2) \n3 (11, 0) 6 (11, 1) 7 (11, 2) 1 (11, 3) \n3 (12, 0) 6 (12, 1) \n3 (13, 0) 6 (13, 1) 7 (13, 2) 1 (13, 3) \n3 (14, 0) 6 (14, 1) 7 (14, 2) \n3 (15, 0) 6 (15, 1) 7 (15, 2) 1 (15, 3) \n3 (16, 0) \n3 (17, 0) 5 (17, 4) \n3 (18, 0) 1 (18, 3) \n3 (19, 0) 6 (19, 1) 1 (19, 3) 5 (19, 4) \n3 (20, 0) 7 (20, 2) \n3 (21, 0) 7 (21, 2) 5 (21, 4) \n3 (22, 0) 6 (22, 1) 7 (22, 2) 1 (22, 3) \n3 (23, 0) 6 (23, 1) 7 (23, 2) 1 (23, 3) 5 (23, 4) \n3 (24, 0) 6 (24, 1) \n3 (25, 0) 6 (25, 1) 1 (25, 3) 5 (25, 4) \n3 (26, 0) 6 (26, 1) 7 (26, 2) 1 (26, 3) \n3 (27, 0) 6 (27, 1) 7 (27, 2) 1 (27, 3) 5 (27, 4) \n3 (28, 0) 6 (28, 1) 7 (28, 2) \n3 (29, 0) 6 (29, 1) 7 (29, 2) 1 (29, 3) 5 (29, 4) \n3 (30, 0) 6 (30, 1) 7 (30, 2) 1 (30, 3) \n3 (31, 0) 6 (31, 1) 7 (31, 2) 1 (31, 3) 5 (31, 4) \n3 (32, 0) \n3 (33, 0) 4 (33, 5) \n3 (34, 0) 5 (34, 4) \n3 (35, 0) 6 (35, 1) 5 (35, 4) 4 (35, 5) \n3 (36, 0) 1 (36, 3) \n3 (37, 0) 7 (37, 2) 1 (37, 3) 4 (37, 5) \n3 (38, 0) 6 (38, 1) 1 (38, 3) 5 (38, 4) \n3 (39, 0) 6 (39, 1) 7 (39, 2) 1 (39, 3) 5 (39, 4) 4 (39, 5) \n3 (40, 0) 7 (40, 2) \n3 (41, 0) 7 (41, 2) 1 (41, 3) 4 (41, 5) \n3 (42, 0) 7 (42, 2) 5 (42, 4) \n3 (43, 0) 6 (43, 1) 7 (43, 2) 1 (43, 3) 5 (43, 4) 4 (43, 5) \n3 (44, 0) 6 (44, 1) 7 (44, 2) 1 (44, 3) \n3 (45, 0) 6 (45, 1) 7 (45, 2) 1 (45, 3) 4 (45, 5) \n3 (46, 0) 6 (46, 1) 7 (46, 2) 1 (46, 3) 5 (46, 4) \n3 (47, 0) 6 (47, 1) 7 (47, 2) 1 (47, 3) 5 (47, 4) 4 (47, 5) \n3 (48, 0) 6 (48, 1) \n3 (49, 0) 6 (49, 1) 5 (49, 4) 4 (49, 5) \n3 (50, 0) 6 (50, 1) 1 (50, 3) 5 (50, 4) \n3 (51, 0) 6 (51, 1) 1 (51, 3) 5 (51, 4) 4 (51, 5) \n3 (52, 0) 6 (52, 1) 7 (52, 2) 1 (52, 3) \n3 (53, 0) 6 (53, 1) 7 (53, 2) 1 (53, 3) 5 (53, 4) 4 (53, 5) \n3 (54, 0) 6 (54, 1) 7 (54, 2) 1 (54, 3) 5 (54, 4) \n3 (55, 0) 6 (55, 1) 7 (55, 2) 1 (55, 3) 5 (55, 4) 4 (55, 5) \n3 (56, 0) 6 (56, 1) 7 (56, 2) \n3 (57, 0) 6 (57, 1) 7 (57, 2) 1 (57, 3) 5 (57, 4) 4 (57, 5) \n3 (58, 0) 6 (58, 1) 7 (58, 2) 1 (58, 3) 5 (58, 4) \n3 (59, 0) 6 (59, 1) 7 (59, 2) 1 (59, 3) 5 (59, 4) 4 (59, 5) \n3 (60, 0) 6 (60, 1) 7 (60, 2) 1 (60, 3) \n3 (61, 0) 6 (61, 1) 7 (61, 2) 1 (61, 3) 5 (61, 4) 4 (61, 5) \n3 (62, 0) 6 (62, 1) 7 (62, 2) 1 (62, 3) 5 (62, 4) \n3 (63, 0) 6 (63, 1) 7 (63, 2) 1 (63, 3) 5 (63, 4) 4 (63, 5) \n\n"
    }
   ],
   "source": [
    "arr = [3,6,7,1,5,4]\n",
    "\n",
    "n = len(arr)\n",
    "\n",
    "for i in range(1<<n):\n",
    "    for j in range(n+1):\n",
    "        if i & (i<<j):\n",
    "            print(arr[j], (i, j), end = ' ')\n",
    "    print()\n",
    "print()"
   ]
  },
  {
   "cell_type": "markdown",
   "metadata": {},
   "source": [
    "### (3) 비트마스크를 활용한 부분집합 생성"
   ]
  },
  {
   "cell_type": "code",
   "execution_count": null,
   "metadata": {},
   "outputs": [],
   "source": []
  },
  {
   "cell_type": "markdown",
   "metadata": {},
   "source": [
    "## III. 부분집합의 합\n",
    "Powerset(멱집합): 주어진 집합의 모든 부분 집합들로 구성된 집합이다.\n",
    "부분집합의 합 : 멱집합의 개별 요소들의 합\n",
    "\n",
    "\n",
    "### (1) Powerset을 생성하는 방법\n",
    "\n",
    "0. `itertools.combinations()`\n",
    "1. 전수 나열(Exhaustive Enumerat)\n",
    "2. 비트연산 활용 (비트마스크)\n",
    "3. 재귀"
   ]
  },
  {
   "cell_type": "markdown",
   "metadata": {},
   "source": [
    "> 주어진 집합 [1, 2, 3, 4]에 대한 **멱집합**을 구하는 방법"
   ]
  },
  {
   "cell_type": "code",
   "execution_count": 4,
   "metadata": {},
   "outputs": [],
   "source": [
    "given_set = [1, 2, 3, 4]"
   ]
  },
  {
   "cell_type": "code",
   "execution_count": 23,
   "metadata": {},
   "outputs": [
    {
     "name": "stdout",
     "output_type": "stream",
     "text": [
      "[(1, 2, 3), (1, 2, 4), (1, 3, 4), (2, 3, 4)]\n",
      "[(), (1,), (2,), (3,), (4,), (1, 2), (1, 3), (1, 4), (2, 3), (2, 4), (3, 4), (1, 2, 3), (1, 2, 4), (1, 3, 4), (2, 3, 4), (1, 2, 3, 4)]\n"
     ]
    }
   ],
   "source": [
    "# 0. itertools.combinations()\n",
    "from itertools import combinations\n",
    "\n",
    "## (1) n 개의 원소를 가진 부분집합\n",
    "\n",
    "\n",
    "\n",
    "## (2) powerset(멱집합) : 가능한 모든 부분집합 (공집합 포함)\n",
    "\n",
    "\n",
    "\n",
    "## (3) 공집합(빈 튜플)을 제외하기 위해서는\n",
    "\n"
   ]
  },
  {
   "cell_type": "code",
   "execution_count": 4,
   "metadata": {},
   "outputs": [],
   "source": [
    "given_set = [1, 2, 3, 4]"
   ]
  },
  {
   "cell_type": "code",
   "execution_count": 1,
   "metadata": {},
   "outputs": [],
   "source": [
    "# 1. 전수나열(Exhaustive Enumeration)\n",
    "\n",
    "# 부분집합의 수 = 2**n\n",
    "\n",
    "\n",
    "# 공집합 제외한 부분집합의 수 = 2**n - 1\n",
    "# => 1 << n - 1\n",
    "    "
   ]
  },
  {
   "cell_type": "code",
   "execution_count": 4,
   "metadata": {},
   "outputs": [],
   "source": [
    "given_set = [1, 2, 3, 4]"
   ]
  },
  {
   "cell_type": "code",
   "execution_count": null,
   "metadata": {},
   "outputs": [],
   "source": [
    "# 2. 비트연산(Bitwise Operation) & 비트마스크\n",
    "\n",
    "# 정수로 나타낼 수 있는 정수집합의 총 개수 = 2**n (부분집합의 수)\n",
    "    "
   ]
  },
  {
   "cell_type": "code",
   "execution_count": 4,
   "metadata": {},
   "outputs": [],
   "source": [
    "given_set = [1, 2, 3, 4]"
   ]
  },
  {
   "cell_type": "code",
   "execution_count": null,
   "metadata": {},
   "outputs": [],
   "source": [
    "# 3. 재귀(Recursion)\n",
    "\n",
    "# 합이 4인 부분집합의 수\n",
    "# m = 4\n"
   ]
  },
  {
   "cell_type": "code",
   "execution_count": null,
   "metadata": {},
   "outputs": [],
   "source": []
  }
 ],
 "metadata": {
  "kernelspec": {
   "display_name": "Python 3",
   "language": "python",
   "name": "python3"
  },
  "language_info": {
   "codemirror_mode": {
    "name": "ipython",
    "version": 3
   },
   "file_extension": ".py",
   "mimetype": "text/x-python",
   "name": "python",
   "nbconvert_exporter": "python",
   "pygments_lexer": "ipython3",
   "version": "3.7.3-final"
  }
 },
 "nbformat": 4,
 "nbformat_minor": 2
}